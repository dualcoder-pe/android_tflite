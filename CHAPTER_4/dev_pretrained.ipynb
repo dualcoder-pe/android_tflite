{
 "cells": [
  {
   "cell_type": "code",
   "execution_count": null,
   "metadata": {},
   "outputs": [],
   "source": [
    "!pip3 install image"
   ]
  },
  {
   "cell_type": "code",
   "execution_count": null,
   "metadata": {},
   "outputs": [],
   "source": [
    "from PIL import Image\n",
    "import os\n",
    "import numpy as np\n",
    "\n",
    "data_dir = \"./images/\"\n",
    "files = os.listdir(data_dir)\n",
    "\n",
    "images = []\n",
    "for file in files:\n",
    "    path = os.path.join(data_dir, file)\n",
    "    images.append(np.array(Image.open(path)))"
   ]
  },
  {
   "cell_type": "code",
   "execution_count": null,
   "metadata": {
    "tags": []
   },
   "outputs": [],
   "source": [
    "import tensorflow as tf\n",
    "\n",
    "resized_images = np.array(np.zeros((len(images), 224, 224, 3)))\n",
    "for i in range(len(images)):\n",
    "    resized_images[i] = tf.image.resize(images[i], [224, 224])\n",
    "\n",
    "preprocessed_images = tf.keras.applications.mobilenet_v2.preprocess_input(resized_images)"
   ]
  },
  {
   "cell_type": "code",
   "execution_count": null,
   "metadata": {},
   "outputs": [],
   "source": [
    "mobilenet_imagenet_model = tf.keras.applications.MobileNetV2(weights=\"imagenet\")\n",
    "\n",
    "y_pred = mobilenet_imagenet_model.predict(preprocessed_images)\n",
    "topK = 1\n",
    "y_pred_top = tf.keras.applications.mobilenet_v2.decode_predictions(y_pred, top=topK)"
   ]
  },
  {
   "cell_type": "code",
   "execution_count": null,
   "metadata": {},
   "outputs": [],
   "source": [
    "from matplotlib import pyplot as plt\n",
    "import numpy as np\n",
    "\n",
    "for i in range(len(images)):\n",
    "    plt.imshow(images[i])\n",
    "    plt.show()\n",
    "    \n",
    "    for k in range(topK):\n",
    "        print(f'{y_pred_top[i][k][1]} ({round(y_pred_top[i][k][2] * 100, 1)}%)')\n"
   ]
  }
 ],
 "metadata": {
  "kernelspec": {
   "name": "python3",
   "display_name": "Python 3.7.7 64-bit ('tf2': conda)",
   "metadata": {
    "interpreter": {
     "hash": "2c369c7a0bd18095d69cc6bcfdfaf93c8e305f9651a20b05d28ea042855c27d0"
    }
   }
  }
 },
 "nbformat": 4,
 "nbformat_minor": 2
}