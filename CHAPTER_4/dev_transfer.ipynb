{
 "metadata": {
  "language_info": {
   "codemirror_mode": {
    "name": "ipython",
    "version": 3
   },
   "file_extension": ".py",
   "mimetype": "text/x-python",
   "name": "python",
   "nbconvert_exporter": "python",
   "pygments_lexer": "ipython3",
   "version": "3.7.9-final"
  },
  "orig_nbformat": 2,
  "kernelspec": {
   "name": "python3",
   "display_name": "Python 3.7.9 64-bit ('tf2_gpu': conda)",
   "metadata": {
    "interpreter": {
     "hash": "498ea089fd36d425caa21f9d667cb1576e94eeb9fdd4a0f37fc11e89f75606ea"
    }
   }
  }
 },
 "nbformat": 4,
 "nbformat_minor": 2,
 "cells": [
  {
   "cell_type": "code",
   "execution_count": 1,
   "metadata": {},
   "outputs": [],
   "source": [
    "import tensorflow_datasets as tfds\n",
    "tfds.disable_progress_bar()\n",
    "\n",
    "raw_train, raw_test = tfds.load(\n",
    "    'cats_vs_dogs',\n",
    "    split=['train[:80%]', 'train[20%:]'],\n",
    "    as_supervised=True\n",
    ")"
   ]
  },
  {
   "cell_type": "code",
   "execution_count": 2,
   "metadata": {},
   "outputs": [],
   "source": [
    "import numpy as np\n",
    "import tensorflow as tf\n",
    "from tensorflow.image import ResizeMethod\n",
    "\n",
    "def preprocess(image, label):\n",
    "    out_image = tf.image.resize(image, [224, 224], method=ResizeMethod.BICUBIC)\n",
    "    out_image = tf.keras.applications.mobilenet_v2.preprocess_input(out_image)\n",
    "\n",
    "    return out_image, label\n",
    "\n",
    "batch_size = 32\n",
    "train_batch = raw_train.map(preprocess).batch(batch_size)\n",
    "test_batch = raw_test.map(preprocess).batch(batch_size)"
   ]
  },
  {
   "cell_type": "code",
   "execution_count": 3,
   "metadata": {
    "tags": []
   },
   "outputs": [],
   "source": [
    "mobilenet_base = tf.keras.applications.MobileNetV2(\n",
    "    input_shape=(224, 224, 3),\n",
    "    weights=\"imagenet\",\n",
    "    include_top=False)\n",
    "\n",
    "mobilenet_base.summary()"
   ]
  },
  {
   "cell_type": "code",
   "execution_count": null,
   "metadata": {},
   "outputs": [],
   "source": [
    "mobilenet_base.trainable=False\n",
    "\n",
    "mobilenet_model = tf.keras.Sequential([\n",
    "    mobilenet_base,\n",
    "    tf.keras.layers.GlobalAveragePooling2D(),\n",
    "    tf.keras.layers.Dense(1)\n",
    "])\n",
    "\n",
    "mobilenet_model.compile(optimizer='adam',\n",
    "              loss='binary_crossentropy',\n",
    "              metrics=['accuracy'])\n",
    "\n",
    "mobilenet_model.fit(train_batch, epochs=5)\n",
    "mobilenet_model.evaluate(test_batch, verbose=2)"
   ]
  }
 ]
}