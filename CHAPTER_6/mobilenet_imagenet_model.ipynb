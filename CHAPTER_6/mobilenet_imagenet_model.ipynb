{
 "cells": [
  {
   "cell_type": "code",
   "execution_count": 4,
   "metadata": {},
   "outputs": [],
   "source": [
    "import tensorflow as tf\n",
    "\n",
    "mobilenet_imagenet_model = tf.keras.applications.MobileNetV2(weights=\"imagenet\")\n",
    "\n",
    "converter = tf.lite.TFLiteConverter.from_keras_model(mobilenet_imagenet_model)\n",
    "tflite_model = converter.convert()\n",
    "\n",
    "with open('./mobilenet_imagenet_model.tflite', 'wb') as f:\n",
    "  f.write(tflite_model)"
   ]
  }
 ],
 "metadata": {
  "kernelspec": {
   "display_name": "Python 3",
   "language": "python",
   "name": "python3"
  },
  "language_info": {
   "codemirror_mode": {
    "name": "ipython",
    "version": 3
   },
   "file_extension": ".py",
   "mimetype": "text/x-python",
   "name": "python",
   "nbconvert_exporter": "python",
   "pygments_lexer": "ipython3",
   "version": "3.7.3"
  }
 },
 "nbformat": 4,
 "nbformat_minor": 2
}
