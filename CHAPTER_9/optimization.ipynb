{
 "cells": [
  {
   "cell_type": "code",
   "execution_count": 2,
   "metadata": {},
   "outputs": [],
   "source": [
    "import tensorflow as tf\n",
    "import numpy as np\n",
    "from PIL import Image"
   ]
  },
  {
   "cell_type": "code",
   "execution_count": 4,
   "metadata": {},
   "outputs": [],
   "source": [
    "def save_model_tflite(model, path):\n",
    "    converter = tf.lite.TFLiteConverter.from_keras_model(model)\n",
    "    tflite_model = converter.convert()\n",
    "    with open(path, 'wb') as f:\n",
    "        f.write(tflite_model)\n",
    "\n",
    "    return os.path.getsize(path)"
   ]
  },
  {
   "cell_type": "code",
   "execution_count": 7,
   "metadata": {},
   "outputs": [
    {
     "output_type": "stream",
     "name": "stdout",
     "text": [
      "INFO:tensorflow:Assets written to: C:\\Users\\lswsj\\AppData\\Local\\Temp\\tmpzhz2qzye\\assets\n",
      "INFO:tensorflow:Assets written to: C:\\Users\\lswsj\\AppData\\Local\\Temp\\tmpzhz2qzye\\assets\n",
      "origin_size : 13988520\n"
     ]
    }
   ],
   "source": [
    "mobilenet_model = tf.keras.applications.MobileNetV2(weights=\"imagenet\")\n",
    "origin_size = save_model_tflite(mobilenet_model, \"mobilenet.tflite\")\n",
    "print(f'origin_size : {origin_size}')"
   ]
  },
  {
   "cell_type": "code",
   "execution_count": 2,
   "metadata": {},
   "outputs": [],
   "source": [
    "def save_model_tflite_dynamic_range_optimization(model, path):\n",
    "    converter = tf.lite.TFLiteConverter.from_keras_model(model)\n",
    "    converter.optimizations = [tf.lite.Optimize.DEFAULT]\n",
    "    tflite_model = converter.convert()\n",
    "    with open(path, 'wb') as f:\n",
    "        f.write(tflite_model)\n",
    "\n",
    "    return os.path.getsize(path)"
   ]
  },
  {
   "cell_type": "code",
   "execution_count": 8,
   "metadata": {},
   "outputs": [
    {
     "output_type": "stream",
     "name": "stdout",
     "text": [
      "INFO:tensorflow:Assets written to: C:\\Users\\lswsj\\AppData\\Local\\Temp\\tmpp4qtrghd\\assets\n",
      "INFO:tensorflow:Assets written to: C:\\Users\\lswsj\\AppData\\Local\\Temp\\tmpp4qtrghd\\assets\n",
      "dr_size : 3593600\n"
     ]
    }
   ],
   "source": [
    "mobilenet_model = tf.keras.applications.MobileNetV2(weights=\"imagenet\")\n",
    "dr_size = save_model_tflite_dynamic_range_optimization(mobilenet_model,\n",
    "    \"mobilenet_dynamic_range.tflite\")\n",
    "print(f'dr_size : {dr_size}')\n",
    "# \n"
   ]
  },
  {
   "cell_type": "code",
   "execution_count": 11,
   "metadata": {},
   "outputs": [],
   "source": [
    "def save_model_tflite_float16_optimization(model, path):\n",
    "    converter = tf.lite.TFLiteConverter.from_keras_model(model)\n",
    "    converter.optimizations = [tf.lite.Optimize.DEFAULT]\n",
    "    converter.target_spec.supported_types = [tf.float16]\n",
    "    tflite_model = converter.convert()\n",
    "    with open(path, 'wb') as f:\n",
    "        f.write(tflite_model)\n",
    "\n",
    "    return os.path.getsize(path)"
   ]
  },
  {
   "cell_type": "code",
   "execution_count": 13,
   "metadata": {},
   "outputs": [
    {
     "output_type": "stream",
     "name": "stdout",
     "text": [
      "INFO:tensorflow:Assets written to: C:\\Users\\lswsj\\AppData\\Local\\Temp\\tmpf4kvcu6e\\assets\n",
      "INFO:tensorflow:Assets written to: C:\\Users\\lswsj\\AppData\\Local\\Temp\\tmpf4kvcu6e\\assets\n",
      "fl16_size : 7031872\n"
     ]
    }
   ],
   "source": [
    "mobilenet_model = tf.keras.applications.MobileNetV2(weights=\"imagenet\")\n",
    "fl16_size = save_model_tflite_float16_optimization(mobilenet_model, \"mobilenet_float16.tflite\")\n",
    "print(f'fl16_size : {fl16_size}')\n"
   ]
  },
  {
   "cell_type": "code",
   "execution_count": 124,
   "metadata": {},
   "outputs": [],
   "source": [
    "def save_model_tflite_int_optimization(model, path, representative_dataset):\n",
    "    converter = tf.lite.TFLiteConverter.from_keras_model(model)\n",
    "    converter.optimizations = [tf.lite.Optimize.DEFAULT]\n",
    "    converter.representative_dataset = representative_dataset\n",
    "    tflite_model = converter.convert()\n",
    "    with open(path, 'wb') as f:\n",
    "        f.write(tflite_model)\n",
    "\n",
    "    return os.path.getsize(path)"
   ]
  },
  {
   "cell_type": "code",
   "execution_count": 4,
   "metadata": {},
   "outputs": [],
   "source": [
    "def get_preprocessed_test_image(image_dir, count=100):\n",
    "    files = os.listdir(image_dir)\n",
    "    resized_images = np.array(np.zeros((count, 224, 224, 3)))\n",
    "    for i in range(count):\n",
    "        file = files[i]\n",
    "        path = os.path.join(image_dir, file)\n",
    "        image = np.array(Image.open(path))\n",
    "\n",
    "        if len(np.shape(image)) == 2 :\n",
    "            image = convert_channel(image)\n",
    "        \n",
    "        resized_images[i] = tf.image.resize(image, [224, 224])\n",
    "\n",
    "    return resized_images\n",
    "\n",
    "\n",
    "def convert_channel(img):\n",
    "    return np.repeat(img[:, :, np.newaxis], 3, axis=2)"
   ]
  },
  {
   "cell_type": "code",
   "execution_count": 5,
   "metadata": {},
   "outputs": [],
   "source": [
    "image_count = 100\n",
    "image_data = get_preprocessed_test_image(\"./ILSVRC2012_img_val/\", image_count)\n",
    "image_data = np.array(tf.keras.applications.mobilenet.preprocess_input(image_data), np.float32)\n",
    "\n",
    "def representative_dataset():\n",
    "    for input_value in tf.data.Dataset.from_tensor_slices(image_data).batch(1).take(image_count):\n",
    "        yield [input_value]"
   ]
  },
  {
   "cell_type": "code",
   "execution_count": 125,
   "metadata": {},
   "outputs": [
    {
     "output_type": "stream",
     "name": "stdout",
     "text": [
      "INFO:tensorflow:Assets written to: C:\\Users\\lswsj\\AppData\\Local\\Temp\\tmpq4__e242\\assets\n",
      "INFO:tensorflow:Assets written to: C:\\Users\\lswsj\\AppData\\Local\\Temp\\tmpq4__e242\\assets\n",
      "int_size : 4134304\n"
     ]
    }
   ],
   "source": [
    "mobilenet_model = tf.keras.applications.MobileNetV2(weights=\"imagenet\")\n",
    "int_size = save_model_tflite_int_optimization(mobilenet_model, \"mobilenet_int.tflite\", representative_dataset)\n",
    "print(f'int_size : {int_size}')"
   ]
  },
  {
   "cell_type": "code",
   "execution_count": 136,
   "metadata": {},
   "outputs": [],
   "source": [
    "def save_model_tflite_fullint_optimization(model, path, representative_dataset):\n",
    "    converter = tf.lite.TFLiteConverter.from_keras_model(model)\n",
    "    converter.optimizations = [tf.lite.Optimize.DEFAULT]\n",
    "    converter.representative_dataset = representative_dataset\n",
    "    converter.target_spec.supported_ops = [tf.lite.OpsSet.TFLITE_BUILTINS_INT8]\n",
    "    converter.inference_input_type = tf.uint8\n",
    "    converter.inference_output_type = tf.uint8\n",
    "    tflite_model = converter.convert()\n",
    "    with open(path, 'wb') as f:\n",
    "        f.write(tflite_model)\n",
    "\n",
    "    return os.path.getsize(path)\n",
    "\n"
   ]
  },
  {
   "cell_type": "code",
   "execution_count": 137,
   "metadata": {},
   "outputs": [
    {
     "output_type": "stream",
     "name": "stdout",
     "text": [
      "INFO:tensorflow:Assets written to: C:\\Users\\lswsj\\AppData\\Local\\Temp\\tmp1mubvj3k\\assets\n",
      "INFO:tensorflow:Assets written to: C:\\Users\\lswsj\\AppData\\Local\\Temp\\tmp1mubvj3k\\assets\n",
      "fullint_size : 4134384\n"
     ]
    }
   ],
   "source": [
    "mobilenet_model = tf.keras.applications.MobileNetV2(weights=\"imagenet\")\n",
    "fullint_size = save_model_tflite_fullint_optimization(mobilenet_model, \"mobilenet_fullint.tflite\", representative_dataset)\n",
    "print(f'fullint_size : {fullint_size}')"
   ]
  },
  {
   "cell_type": "code",
   "execution_count": 8,
   "metadata": {
    "tags": []
   },
   "outputs": [],
   "source": [
    "def run_mobilent_tflite_model(path, test_image_count=100):\n",
    "    interpreter = tf.lite.Interpreter(str(path))\n",
    "    interpreter.allocate_tensors()\n",
    "\n",
    "    input_details = interpreter.get_input_details()[0]\n",
    "    output_details = interpreter.get_output_details()[0]\n",
    "\n",
    "    input_data = get_preprocessed_test_image(\"./ILSVRC2012_img_val/\", test_image_count)\n",
    "\n",
    "    if input_details['dtype'] == np.float32:\n",
    "        input_data = tf.keras.applications.mobilenet.preprocess_input(input_data)\n",
    "        input_data = np.array(input_data, np.float32)\n",
    "\n",
    "    y_pred = np.array(np.zeros((len(input_data), 1000)), np.float32)\n",
    "    for i in range(len(input_data)):\n",
    "        if input_details['dtype'] == np.uint8:\n",
    "            test_image = [np.array(input_data[i].astype(int), dtype=np.uint8)]\n",
    "        else:\n",
    "            test_image = [input_data[i]]\n",
    "        \n",
    "        interpreter.set_tensor(input_details['index'], test_image)\n",
    "        interpreter.invoke()\n",
    "        output = interpreter.get_tensor(output_details['index'])\n",
    "\n",
    "        if output_details['dtype'] == np.uint8:\n",
    "            output_param = output_details[\"quantization_parameters\"]\n",
    "            output_scale = output_param[\"scales\"]\n",
    "            output_zero_point = output_param[\"zero_points\"]\n",
    "            output = output.astype(np.float32)\n",
    "            output = (output - output_zero_point) * output_scale\n",
    "\n",
    "        y_pred[i] = output\n",
    "    \n",
    "    topK = 3\n",
    "    y_pred_top = tf.keras.applications.mobilenet.decode_predictions(y_pred, top=topK)\n",
    "\n",
    "    label_file = open(\"labels.txt\", \"r\")\n",
    "    label = label_file.read().split(\"\\n\")[:test_image_count]\n",
    "    \n",
    "    return check_accuracy(y_pred_top, label)\n",
    "\n",
    "\n",
    "def check_accuracy(y_pred_top, label):\n",
    "    success_count = 0\n",
    "\n",
    "    for i in range(len(y_pred_top)):\n",
    "        output_list = []\n",
    "\n",
    "        for output in y_pred_top[i]:\n",
    "            if isinstance(output, int):\n",
    "                output_list.append(output)\n",
    "            else:\n",
    "                output_list.append(output[1])\n",
    "\n",
    "        if label[i] in output_list:\n",
    "            success_count += 1\n",
    "        \n",
    "    return success_count / len(y_pred_top)\n"
   ]
  },
  {
   "cell_type": "code",
   "execution_count": 9,
   "metadata": {},
   "outputs": [
    {
     "output_type": "stream",
     "name": "stdout",
     "text": [
      "time : 0.0653083324432373\n",
      "time : 0.14661645889282227\n",
      "time : 0.07132840156555176\n",
      "time : 2.0459702014923096\n",
      "time : 2.054039716720581\n"
     ]
    },
    {
     "output_type": "execute_result",
     "data": {
      "text/plain": [
       "'1.0, 0.0, 1.0, 0.0, 0.0'"
      ]
     },
     "metadata": {},
     "execution_count": 9
    }
   ],
   "source": [
    "origin_acc = run_mobilent_tflite_model(\"mobilenet.tflite\")\n",
    "dynamic_range_acc = run_mobilent_tflite_model(\"mobilenet_dynamic_range.tflite\")\n",
    "float16_acc = run_mobilent_tflite_model(\"mobilenet_float16.tflite\")\n",
    "int_acc = run_mobilent_tflite_model(\"mobilenet_int.tflite\")\n",
    "fullint_acc = run_mobilent_tflite_model(\"mobilenet_fullint.tflite\")\n",
    "\n",
    "f'{origin_acc}, {dynamic_range_acc}, {float16_acc}, {int_acc}, {fullint_acc}'"
   ]
  }
 ],
 "metadata": {
  "kernelspec": {
   "name": "python3",
   "display_name": "Python 3",
   "language": "python"
  },
  "language_info": {
   "codemirror_mode": {
    "name": "ipython",
    "version": 3
   },
   "file_extension": ".py",
   "mimetype": "text/x-python",
   "name": "python",
   "nbconvert_exporter": "python",
   "pygments_lexer": "ipython3",
   "version": "3.7.9-final"
  }
 },
 "nbformat": 4,
 "nbformat_minor": 2
}