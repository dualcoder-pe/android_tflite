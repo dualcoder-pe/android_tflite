{
 "metadata": {
  "language_info": {
   "codemirror_mode": {
    "name": "ipython",
    "version": 3
   },
   "file_extension": ".py",
   "mimetype": "text/x-python",
   "name": "python",
   "nbconvert_exporter": "python",
   "pygments_lexer": "ipython3",
   "version": "3.7.7-final"
  },
  "orig_nbformat": 2,
  "kernelspec": {
   "name": "python3",
   "display_name": "Python 3.7.7 64-bit ('tf2': conda)",
   "metadata": {
    "interpreter": {
     "hash": "2c369c7a0bd18095d69cc6bcfdfaf93c8e305f9651a20b05d28ea042855c27d0"
    }
   }
  }
 },
 "nbformat": 4,
 "nbformat_minor": 2,
 "cells": [
  {
   "cell_type": "code",
   "execution_count": 46,
   "metadata": {},
   "outputs": [
    {
     "output_type": "stream",
     "name": "stdout",
     "text": [
      "Model: \"sequential_7\"\n",
      "_________________________________________________________________\n",
      "Layer (type)                 Output Shape              Param #   \n",
      "=================================================================\n",
      "conv2d_10 (Conv2D)           (None, 26, 26, 12)        120       \n",
      "_________________________________________________________________\n",
      "max_pooling2d_8 (MaxPooling2 (None, 13, 13, 12)        0         \n",
      "_________________________________________________________________\n",
      "flatten_7 (Flatten)          (None, 2028)              0         \n",
      "_________________________________________________________________\n",
      "dense_8 (Dense)              (None, 10)                20290     \n",
      "=================================================================\n",
      "Total params: 20,410\n",
      "Trainable params: 20,410\n",
      "Non-trainable params: 0\n",
      "_________________________________________________________________\n",
      "1688/1688 [==============================] - 7s 4ms/step - loss: 0.2833 - accuracy: 0.9218 - val_loss: 0.1133 - val_accuracy: 0.9693\n",
      "313/313 [==============================] - 1s 2ms/step - loss: 0.1224 - accuracy: 0.9653\n"
     ]
    },
    {
     "output_type": "execute_result",
     "data": {
      "text/plain": [
       "[0.1224130243062973, 0.9653000235557556]"
      ]
     },
     "metadata": {},
     "execution_count": 46
    }
   ],
   "source": [
    "import tensorflow as tf\n",
    "\n",
    "mnist = tf.keras.datasets.mnist\n",
    "(x_train, y_train), (x_test, y_test) = mnist.load_data()\n",
    "\n",
    "x_train, x_test = x_train / 255.0, x_test / 255.0\n",
    "x_train = x_train.reshape(-1, 28, 28, 1)\n",
    "x_test = x_test.reshape(-1, 28, 28, 1)\n",
    "\n",
    "cnn_model = tf.keras.Sequential([\n",
    "  tf.keras.layers.Conv2D(12, (3, 3), activation='relu', input_shape=(28, 28, 1)),\n",
    "  tf.keras.layers.MaxPooling2D((2, 2)),\n",
    "  tf.keras.layers.Flatten(),\n",
    "  tf.keras.layers.Dense(10)])\n",
    "\n",
    "cnn_model.compile(optimizer='adam',\n",
    "                loss=tf.keras.losses.SparseCategoricalCrossentropy(from_logits=True),\n",
    "                metrics=['accuracy'])\n",
    "cnn_model.summary()\n",
    "cnn_model.fit(x_train, y_train, epochs=1, validation_split=0.1)\n",
    "cnn_model.evaluate(x_test,  y_test)\n"
   ]
  },
  {
   "cell_type": "code",
   "execution_count": 33,
   "metadata": {},
   "outputs": [
    {
     "output_type": "stream",
     "name": "stdout",
     "text": [
      "INFO:tensorflow:Assets written to: C:\\Users\\lswsj\\AppData\\Local\\Temp\\tmpvohgwcl2\\assets\n",
      "INFO:tensorflow:Assets written to: C:\\Users\\lswsj\\AppData\\Local\\Temp\\tmpvohgwcl2\\assets\n"
     ]
    },
    {
     "output_type": "execute_result",
     "data": {
      "text/plain": [
       "83476"
      ]
     },
     "metadata": {},
     "execution_count": 33
    }
   ],
   "source": [
    "converter = tf.lite.TFLiteConverter.from_keras_model(cnn_model)\n",
    "cnn_tflite_model = converter.convert()\n",
    "\n",
    "with open(\"./cnn_model.tflite\", 'wb') as f:\n",
    "    f.write(cnn_tflite_model)"
   ]
  },
  {
   "cell_type": "code",
   "execution_count": 62,
   "metadata": {},
   "outputs": [],
   "source": [
    "import numpy as np\n",
    "\n",
    "def run_tflite_model(path, x_test, y_test):\n",
    "    interpreter = tf.lite.Interpreter(str(path))\n",
    "    interpreter.allocate_tensors()\n",
    "\n",
    "    input_details = interpreter.get_input_details()[0]\n",
    "    output_details = interpreter.get_output_details()[0]\n",
    "\n",
    "    y_pred = []\n",
    "    for i, test_image in enumerate(x_test):\n",
    "        test_image = np.expand_dims(test_image, axis=0).astype(np.float32)\n",
    "\n",
    "        interpreter.set_tensor(input_details['index'], test_image)\n",
    "        interpreter.invoke()\n",
    "        output = interpreter.get_tensor(output_details['index'])\n",
    "\n",
    "        y_pred.append(output.argmax())\n",
    "\n",
    "    y_pred = np.array(y_pred)\n",
    "    accuracy = (y_pred == y_test).mean()\n",
    "    return accuracy\n"
   ]
  },
  {
   "cell_type": "code",
   "execution_count": 63,
   "metadata": {},
   "outputs": [
    {
     "output_type": "execute_result",
     "data": {
      "text/plain": [
       "0.9638"
      ]
     },
     "metadata": {},
     "execution_count": 63
    }
   ],
   "source": [
    "run_tflite_model(\"./cnn_model.tflite\", x_test, y_test)"
   ]
  },
  {
   "cell_type": "code",
   "execution_count": 58,
   "metadata": {},
   "outputs": [
    {
     "output_type": "stream",
     "name": "stdout",
     "text": [
      "Model: \"sequential_7\"\n",
      "_________________________________________________________________\n",
      "Layer (type)                 Output Shape              Param #   \n",
      "=================================================================\n",
      "quantize_layer_7 (QuantizeLa (None, 28, 28, 1)         3         \n",
      "_________________________________________________________________\n",
      "quant_conv2d_10 (QuantizeWra (None, 26, 26, 12)        147       \n",
      "_________________________________________________________________\n",
      "quant_max_pooling2d_8 (Quant (None, 13, 13, 12)        1         \n",
      "_________________________________________________________________\n",
      "quant_flatten_7 (QuantizeWra (None, 2028)              1         \n",
      "_________________________________________________________________\n",
      "quant_dense_8 (QuantizeWrapp (None, 10)                20295     \n",
      "=================================================================\n",
      "Total params: 20,447\n",
      "Trainable params: 20,410\n",
      "Non-trainable params: 37\n",
      "_________________________________________________________________\n",
      "2/2 [==============================] - 0s 120ms/step - loss: 0.3690 - accuracy: 0.9644 - val_loss: 0.5870 - val_accuracy: 0.9700\n",
      "313/313 [==============================] - 1s 2ms/step - loss: 0.3501 - accuracy: 0.9668\n"
     ]
    },
    {
     "output_type": "execute_result",
     "data": {
      "text/plain": [
       "[0.3501076400279999, 0.9667999744415283]"
      ]
     },
     "metadata": {},
     "execution_count": 58
    }
   ],
   "source": [
    "import tensorflow_model_optimization as tfmot\n",
    "\n",
    "quantized_cnn_model = tfmot.quantization.keras.quantize_model(cnn_model)\n",
    "\n",
    "quantized_cnn_model.compile(optimizer='adam',\n",
    "                      loss=\"sparse_categorical_crossentropy\",\n",
    "                      metrics=['accuracy'])\n",
    "quantized_cnn_model.summary()\n",
    "\n",
    "train_image_subset = x_train[0:1000]\n",
    "train_labels_subset = y_train[0:1000]\n",
    "\n",
    "quantized_cnn_model.fit(train_image_subset, train_labels_subset, \n",
    "                        batch_size=500, epochs=1, validation_split=0.1)\n",
    "quantized_cnn_model.evaluate(x_test, y_test)"
   ]
  },
  {
   "cell_type": "code",
   "execution_count": 57,
   "metadata": {},
   "outputs": [
    {
     "output_type": "stream",
     "name": "stdout",
     "text": [
      "INFO:tensorflow:Assets written to: C:\\Users\\lswsj\\AppData\\Local\\Temp\\tmpaft0o2qk\\assets\n",
      "INFO:tensorflow:Assets written to: C:\\Users\\lswsj\\AppData\\Local\\Temp\\tmpaft0o2qk\\assets\n"
     ]
    },
    {
     "output_type": "execute_result",
     "data": {
      "text/plain": [
       "23648"
      ]
     },
     "metadata": {},
     "execution_count": 57
    }
   ],
   "source": [
    "converter = tf.lite.TFLiteConverter.from_keras_model(quantized_cnn_model)\n",
    "converter.optimizations = [tf.lite.Optimize.DEFAULT]\n",
    "quantized_cnn_tflite_model = converter.convert()\n",
    "\n",
    "with open(\"./quantized_cnn_model.tflite\", 'wb') as f:\n",
    "    f.write(quantized_cnn_tflite_model)"
   ]
  },
  {
   "cell_type": "code",
   "execution_count": 64,
   "metadata": {
    "tags": []
   },
   "outputs": [
    {
     "output_type": "execute_result",
     "data": {
      "text/plain": [
       "0.966"
      ]
     },
     "metadata": {},
     "execution_count": 64
    }
   ],
   "source": [
    "run_tflite_model(\"./quantized_cnn_model.tflite\", x_test, y_test)\n"
   ]
  }
 ]
}